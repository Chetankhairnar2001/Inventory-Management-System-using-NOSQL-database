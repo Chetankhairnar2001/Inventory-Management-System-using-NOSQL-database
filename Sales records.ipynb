{
 "cells": [
  {
   "cell_type": "code",
   "execution_count": 23,
   "id": "correct-tribe",
   "metadata": {},
   "outputs": [],
   "source": [
    "import json\n",
    "import time"
   ]
  },
  {
   "cell_type": "code",
   "execution_count": 54,
   "id": "relevant-literacy",
   "metadata": {},
   "outputs": [],
   "source": [
    "fd = open('records.json','r')\n",
    "txt = fd.read()\n",
    "fd.close()"
   ]
  },
  {
   "cell_type": "code",
   "execution_count": 55,
   "id": "enclosed-edwards",
   "metadata": {},
   "outputs": [],
   "source": [
    "records = json.loads(txt)"
   ]
  },
  {
   "cell_type": "code",
   "execution_count": 57,
   "id": "signed-turkish",
   "metadata": {},
   "outputs": [],
   "source": [
    "def print_records():\n",
    "    print(\"***********************\")\n",
    "    print(\"Product ID: \",ui_prod)\n",
    "    print(\"Name: \", records[ui_prod]['Name'])\n",
    "    print(\"Category: \",records[ui_prod]['Category'])\n",
    "    print(\"Price: \",records[ui_prod]['price'])\n",
    "    print(\"Quant: \",ui_quant)\n",
    "    print(\"Time of Purchase: \", time.ctime())\n",
    "    print(\"------------------------\")\n",
    "    print(\"Billing Amout: \", records[ui_prod]['price']*ui_quant)\n",
    "    print(\"***********************\")"
   ]
  },
  {
   "cell_type": "markdown",
   "id": "careful-trout",
   "metadata": {},
   "source": [
    "## Function for product sales"
   ]
  },
  {
   "cell_type": "code",
   "execution_count": 58,
   "id": "developed-saturn",
   "metadata": {},
   "outputs": [
    {
     "name": "stdout",
     "output_type": "stream",
     "text": [
      "Enter the Product ID 1003\n",
      "Enter Quantity of the Product 22\n",
      "***********************\n",
      "Product ID:  1003\n",
      "Name:  Maggie\n",
      "Category:  Noodles\n",
      "Price:  15\n",
      "Quant:  22\n",
      "Time of Purchase:  Fri Sep  3 10:34:21 2021\n",
      "------------------------\n",
      "Billing Amout:  330\n",
      "***********************\n"
     ]
    }
   ],
   "source": [
    "ui_prod = input(\"Enter the Product ID \")\n",
    "ui_quant = int(input(\"Enter Quantity of the Product \"))\n",
    "\n",
    "if(ui_prod in records): ##key in dictionary\n",
    "    if(ui_quant <= records[ui_prod]['Quantity']):\n",
    "        print_records()\n",
    "    \n",
    "    elif(ui_quant > records[ui_prod]['Quantity']):\n",
    "        print(\"**** Sorry max quantity of\",records[ui_prod]['Name'],\"is\",records[ui_prod]['Quantity'],\"****\")        \n",
    "        user = input(\"If you want to continue enter 'yes' else enter 'no'\")\n",
    "        if(user == 'yes'): \n",
    "            ui_quant = records[ui_prod]['Quantity']\n",
    "            print_records()\n",
    "        else:\n",
    "            print(\"*** Thankyou meet seen ***\")\n",
    "        \n",
    "\n",
    "else:\n",
    "    print(\"**** Please enter a valid id ****\")"
   ]
  },
  {
   "cell_type": "markdown",
   "id": "sporting-arrest",
   "metadata": {},
   "source": [
    "## Update Changes in Record.json"
   ]
  },
  {
   "cell_type": "code",
   "execution_count": 59,
   "id": "affiliated-wildlife",
   "metadata": {},
   "outputs": [],
   "source": [
    "records[ui_prod]['Quantity'] = records[ui_prod]['Quantity'] - ui_quant  ##update record value\n",
    "js = json.dumps(records)  ## str to json\n",
    "\n",
    "fd = open('records.json','w')\n",
    "fd.write(js)\n",
    "fd.close()"
   ]
  },
  {
   "cell_type": "markdown",
   "id": "cosmetic-keyboard",
   "metadata": {},
   "source": [
    "## Print Output in sale.json"
   ]
  },
  {
   "cell_type": "code",
   "execution_count": 61,
   "id": "confidential-extra",
   "metadata": {},
   "outputs": [],
   "source": [
    "fd = open('sales.json','r')\n",
    "txt = fd.read()\n",
    "fd.close()\n",
    "sales = json.loads(txt)"
   ]
  },
  {
   "cell_type": "code",
   "execution_count": 62,
   "id": "canadian-copying",
   "metadata": {},
   "outputs": [],
   "source": [
    "sales[len(sales)+1] = {'Product ID':ui_prod ,\n",
    "  'Name':records[ui_prod]['Name'],\n",
    "  'Category': records[ui_prod]['Category'],\n",
    "  'price': records[ui_prod]['price'],\n",
    "  'Quantity': ui_quant,\n",
    "  'Rating': records[ui_prod]['Rating'],\n",
    "  'Billing Amout' :records[ui_prod]['price']*ui_quant,\n",
    "  'time': time.ctime()}\n",
    "\n",
    "\n",
    "js = json.dumps(sales)\n",
    "fd = open('sales.json','w')\n",
    "fd.write(js)\n",
    "fd.close()"
   ]
  }
 ],
 "metadata": {
  "kernelspec": {
   "display_name": "Python 3",
   "language": "python",
   "name": "python3"
  },
  "language_info": {
   "codemirror_mode": {
    "name": "ipython",
    "version": 3
   },
   "file_extension": ".py",
   "mimetype": "text/x-python",
   "name": "python",
   "nbconvert_exporter": "python",
   "pygments_lexer": "ipython3",
   "version": "3.9.0"
  }
 },
 "nbformat": 4,
 "nbformat_minor": 5
}
