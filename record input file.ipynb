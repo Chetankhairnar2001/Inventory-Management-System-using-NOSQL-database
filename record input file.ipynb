{
 "cells": [
  {
   "cell_type": "code",
   "execution_count": 3,
   "id": "nonprofit-scottish",
   "metadata": {},
   "outputs": [],
   "source": [
    "records = {1001:{'Name':'5 Star', 'Category':'Chocolate', 'price':30, 'Quantity':35,'Rating':'5/5' },\n",
    "           1002:{'Name':'Britinia', 'Category':'Biscuit', 'price':100, 'Quantity':100,'Rating':'2/5' },\n",
    "           1003:{'Name':'Maggie', 'Category':'Noodles', 'price':15, 'Quantity':78,'Rating':'5/5' },\n",
    "           1004:{'Name':'Maggie Family Pack', 'Category':'Noodles', 'price':65, 'Quantity':35,'Rating':'5/5' },\n",
    "           1005:{'Name':'Tomato Ketchup', 'Category':'Vegetable', 'price':15, 'Quantity':34,'Rating':'5/5' },\n",
    "           1006:{'Name':'Son Papdi', 'Category':'Sweet', 'price':120, 'Quantity':20,'Rating':'5/5' },\n",
    "           1007:{'Name':'Banana chips', 'Category':'Snacks', 'price':65, 'Quantity':90,'Rating':'0/5' },\n",
    "           1008:{'Name':'Burger', 'Category':'Breakfast', 'price':30, 'Quantity':35,'Rating':'5/5' },\n",
    "           1009:{'Name':'Ham Burger', 'Category':'Breakfast', 'price':35, 'Quantity':50,'Rating':'1/5' },\n",
    "           1010:{'Name':'Hp Laptop', 'Category':'Electronics', 'price':30000, 'Quantity':10,'Rating':'4/5' },\n",
    "           1012:{'Name':'Bunn', 'Category':'Snacks', 'price':90, 'Quantity':78,'Rating':'4/5' },\n",
    "           1013:{'Name':'Chupa Chups', 'Category':'Chocolate', 'price':10, 'Quantity':135,'Rating':'5/5' },\n",
    "           1014:{'Name':'Chedas Chivda', 'Category':'Snacks', 'price':75, 'Quantity':89,'Rating':'5/5' },\n",
    "           1015:{'Name':'Galaxy', 'Category':'Chocolate', 'price':30, 'Quantity':35,'Rating':'3/5' },\n",
    "           1016:{'Name':'Galaxy Delux', 'Category':'Chocolate', 'price':100, 'Quantity':59,'Rating':'5/5' },\n",
    "           1017:{'Name':'Kit Kat', 'Category':'Chocolate', 'price':25, 'Quantity':90,'Rating':'2/5' },\n",
    "           1018:{'Name':'Tide', 'Category':'Soap', 'price':10, 'Quantity':350,'Rating':'5/5' },\n",
    "           1019:{'Name':'Surf Excel', 'Category':'Wash Bar', 'price':105, 'Quantity':35,'Rating':'0/5' },\n",
    "           1020:{'Name':'Bunner', 'Category':'Chocolate', 'price':19, 'Quantity':38,'Rating':'5/5' },\n",
    "           1021:{'Name':'Sneaker', 'Category':'Chocolate', 'price':45, 'Quantity':35,'Rating':'3/5' },\n",
    "           1022:{'Name':'Sky Bag', 'Category':'Bag', 'price':1000, 'Quantity':100,'Rating':'5/5' },\n",
    "           1023:{'Name':'American Tourister', 'Category':'Bag', 'price':2000, 'Quantity':35,'Rating':'1/5' },\n",
    "           1024:{'Name':'5 Star', 'Category':'Chocolate', 'price':30, 'Quantity':35,'Rating':'4/5' },\n",
    "           1025:{'Name':'Jio Sim', 'Category':'Electonics', 'price':300, 'Quantity':90,'Rating':'5/5' },\n",
    "           1026:{'Name':'Reliance Fresh', 'Category':'Fruits', 'price':109, 'Quantity':35,'Rating':'2/5' },\n",
    "           1027:{'Name':'5 Star', 'Category':'Chocolate', 'price':30, 'Quantity':35,'Rating':'5/5' },\n",
    "           1028:{'Name':'Amul Vanilla', 'Category':'Ice Cream', 'price':21, 'Quantity':80,'Rating':'0/5' },\n",
    "           1029:{'Name':'Cornato', 'Category':'Ice Cream', 'price':45, 'Quantity':195,'Rating':'5/5' },\n",
    "           1030:{'Name':'Munch', 'Category':'Chocolate', 'price':10, 'Quantity':76,'Rating':'4/5' },\n",
    "           1031: {\"Name\": \"Munchit\", \"Category\": \"Chocolate\", \"price\": 21, \"Quantity\": 90, \"Rating\": \"1/5\"}\n",
    "          }"
   ]
  },
  {
   "cell_type": "code",
   "execution_count": 9,
   "id": "brutal-leone",
   "metadata": {},
   "outputs": [
    {
     "data": {
      "text/plain": [
       "{'Name': 'Munch',\n",
       " 'Category': 'Chocolate',\n",
       " 'price': 10,\n",
       " 'Quantity': 76,\n",
       " 'Rating': '4/5'}"
      ]
     },
     "execution_count": 9,
     "metadata": {},
     "output_type": "execute_result"
    }
   ],
   "source": [
    "records[1030]     ## records sample"
   ]
  },
  {
   "cell_type": "code",
   "execution_count": null,
   "id": "appropriate-proof",
   "metadata": {},
   "outputs": [],
   "source": []
  },
  {
   "cell_type": "markdown",
   "id": "tired-victor",
   "metadata": {},
   "source": [
    "## Records are stored in JSON format"
   ]
  },
  {
   "cell_type": "code",
   "execution_count": 1,
   "id": "south-implementation",
   "metadata": {},
   "outputs": [],
   "source": [
    "import json"
   ]
  },
  {
   "cell_type": "code",
   "execution_count": 7,
   "id": "intimate-revelation",
   "metadata": {},
   "outputs": [],
   "source": [
    "js = json.dumps(records)"
   ]
  },
  {
   "cell_type": "code",
   "execution_count": 8,
   "id": "random-senator",
   "metadata": {},
   "outputs": [],
   "source": [
    "fd = open('records.json','w')\n",
    "fd.write(js)\n",
    "fd.close()"
   ]
  },
  {
   "cell_type": "code",
   "execution_count": 15,
   "id": "distant-section",
   "metadata": {},
   "outputs": [
    {
     "data": {
      "text/plain": [
       "dict"
      ]
     },
     "execution_count": 15,
     "metadata": {},
     "output_type": "execute_result"
    }
   ],
   "source": [
    "type(records)"
   ]
  },
  {
   "cell_type": "code",
   "execution_count": 16,
   "id": "conservative-antigua",
   "metadata": {},
   "outputs": [
    {
     "data": {
      "text/plain": [
       "str"
      ]
     },
     "execution_count": 16,
     "metadata": {},
     "output_type": "execute_result"
    }
   ],
   "source": [
    "type(js)"
   ]
  },
  {
   "cell_type": "code",
   "execution_count": null,
   "id": "organic-senator",
   "metadata": {},
   "outputs": [],
   "source": []
  },
  {
   "cell_type": "markdown",
   "id": "trying-amount",
   "metadata": {},
   "source": [
    "## Input more Records in records.json"
   ]
  },
  {
   "cell_type": "code",
   "execution_count": 9,
   "id": "liberal-territory",
   "metadata": {},
   "outputs": [
    {
     "name": "stdout",
     "output_type": "stream",
     "text": [
      "Enter the Product Id 1032\n",
      "Enter Product Name Cheese Balls\n",
      "Enter the Category of Product BreakFast\n",
      "Enter Product Price 15\n",
      "Enter the Total Quantity 200\n",
      "Enter the product rating out of 54/5\n"
     ]
    }
   ],
   "source": [
    "ui_prod = int(input(\"Enter the Product Id \"))\n",
    "ui_name = input(\"Enter Product Name \")\n",
    "ui_category = input(\"Enter the Category of Product \")\n",
    "ui_price = int(input(\"Enter Product Price \"))\n",
    "ui_quant = int(input(\"Enter the Total Quantity \"))\n",
    "ui_rating = input(\"Enter the product rating out of 5\")\n",
    "\n",
    "records[ui_prod] = {'Name':ui_name, 'Category':ui_category, 'price':ui_price, 'Quantity':ui_quant,'Rating': ui_ratin }"
   ]
  },
  {
   "cell_type": "code",
   "execution_count": 10,
   "id": "physical-blackjack",
   "metadata": {},
   "outputs": [],
   "source": [
    "js = json.dumps(records)\n",
    "fd = open('records.json','w')\n",
    "fd.write(js)\n",
    "fd.close()"
   ]
  },
  {
   "cell_type": "code",
   "execution_count": null,
   "id": "given-horror",
   "metadata": {},
   "outputs": [],
   "source": []
  },
  {
   "cell_type": "code",
   "execution_count": null,
   "id": "civil-cancer",
   "metadata": {},
   "outputs": [],
   "source": []
  }
 ],
 "metadata": {
  "kernelspec": {
   "display_name": "Python 3",
   "language": "python",
   "name": "python3"
  },
  "language_info": {
   "codemirror_mode": {
    "name": "ipython",
    "version": 3
   },
   "file_extension": ".py",
   "mimetype": "text/x-python",
   "name": "python",
   "nbconvert_exporter": "python",
   "pygments_lexer": "ipython3",
   "version": "3.9.0"
  }
 },
 "nbformat": 4,
 "nbformat_minor": 5
}
